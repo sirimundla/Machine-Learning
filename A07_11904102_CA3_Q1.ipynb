{
 "cells": [
  {
   "cell_type": "markdown",
   "metadata": {},
   "source": [
    "# Detect a fish species using Fish Image Dataset"
   ]
  },
  {
   "cell_type": "markdown",
   "metadata": {},
   "source": [
    "#### This dataset contains 9 different seafood types collected from a supermarket in Izmir, Turkey for a university-industry collaboration project at Izmir University of Economics, and this work was published in ASYU 2020. Dataset includes, gilt head bream, red sea bream, sea bass, red mullet, horse mackerel, black sea sprat, striped red mullet, trout, shrimp image samples. "
   ]
  },
  {
   "cell_type": "markdown",
   "metadata": {},
   "source": [
    "#### The dataset contains 9 different seafood types. For each class, there are 1000 augmented images and their pair-waise augmented ground truths.Each class can be found in the \"Fish_Dataset\" file with their ground truth labels. All images for each class are ordered from \"00000.png\" to \"01000.png\". For example, if you want to access the ground truth images of the shrimp in the dataset, the order should be followed is \"Fish->Shrimp->Shrimp GT\". "
   ]
  },
  {
   "cell_type": "markdown",
   "metadata": {},
   "source": [
    "#### This dataset was collected in order to carry out segmentation, feature extraction and classification tasks and compare the common segmentation, feature extraction and classification algortihms (Semantic Segmentation, Convolutional Neural Networks, Bag of Features). All of the experiment results prove the usability of our dataset for purposes mentioned above."
   ]
  },
  {
   "cell_type": "markdown",
   "metadata": {},
   "source": [
    "# Importing Libraries"
   ]
  },
  {
   "cell_type": "code",
   "execution_count": 16,
   "metadata": {
    "_cell_guid": "b1076dfc-b9ad-4769-8c92-a6c4dae69d19",
    "_uuid": "8f2839f25d086af736a60e9eeb907d3b93b6e0e5",
    "execution": {
     "iopub.execute_input": "2022-11-24T10:33:14.961635Z",
     "iopub.status.busy": "2022-11-24T10:33:14.961069Z",
     "iopub.status.idle": "2022-11-24T10:33:14.968990Z",
     "shell.execute_reply": "2022-11-24T10:33:14.967816Z",
     "shell.execute_reply.started": "2022-11-24T10:33:14.961586Z"
    }
   },
   "outputs": [],
   "source": [
    "import numpy as np\n",
    "import pandas as pd\n",
    "from pathlib import Path\n",
    "import os.path\n",
    "\n",
    "from sklearn.model_selection import train_test_split\n",
    "\n",
    "import tensorflow as tf\n",
    "import matplotlib.pyplot as plt"
   ]
  },
  {
   "cell_type": "markdown",
   "metadata": {},
   "source": [
    "### Setting the Directory for images"
   ]
  },
  {
   "cell_type": "code",
   "execution_count": 2,
   "metadata": {
    "execution": {
     "iopub.execute_input": "2022-11-24T10:08:22.515449Z",
     "iopub.status.busy": "2022-11-24T10:08:22.514746Z",
     "iopub.status.idle": "2022-11-24T10:08:22.522409Z",
     "shell.execute_reply": "2022-11-24T10:08:22.520788Z",
     "shell.execute_reply.started": "2022-11-24T10:08:22.515414Z"
    }
   },
   "outputs": [],
   "source": [
    "image_dir = Path('/kaggle/input/a-large-scale-fish-dataset/Fish_Dataset/Fish_Dataset')"
   ]
  },
  {
   "cell_type": "markdown",
   "metadata": {},
   "source": [
    "### Making a Dataframe with Image system paths as one column and the classes they belong to as labels as another column"
   ]
  },
  {
   "cell_type": "code",
   "execution_count": 3,
   "metadata": {
    "execution": {
     "iopub.execute_input": "2022-11-24T10:09:58.689860Z",
     "iopub.status.busy": "2022-11-24T10:09:58.689356Z",
     "iopub.status.idle": "2022-11-24T10:10:03.644861Z",
     "shell.execute_reply": "2022-11-24T10:10:03.643643Z",
     "shell.execute_reply.started": "2022-11-24T10:09:58.689822Z"
    }
   },
   "outputs": [],
   "source": [
    "# Get filepaths and labels\n",
    "filepaths = list(image_dir.glob(r'**/*.png'))\n",
    "labels = list(map(lambda x: os.path.split(os.path.split(x)[0])[1], filepaths))\n",
    "\n",
    "filepaths = pd.Series(filepaths, name='Filepath').astype(str)\n",
    "labels = pd.Series(labels, name='Label')\n",
    "\n",
    "# Concatenate filepaths and labels\n",
    "image_df = pd.concat([filepaths, labels], axis=1)\n",
    "\n",
    "# Drop GT images\n",
    "image_df['Label'] = image_df['Label'].apply(lambda x: np.NaN if x[-2:] == 'GT' else x)\n",
    "image_df = image_df.dropna(axis=0)\n",
    "\n",
    "# Sample 200 images from each class\n",
    "samples = []\n",
    "\n",
    "for category in image_df['Label'].unique():\n",
    "    category_slice = image_df.query(\"Label == @category\")\n",
    "    samples.append(category_slice.sample(200, random_state=1))\n",
    "\n",
    "image_df = pd.concat(samples, axis=0).sample(frac=1.0, random_state=1).reset_index(drop=True)"
   ]
  },
  {
   "cell_type": "code",
   "execution_count": 4,
   "metadata": {
    "execution": {
     "iopub.execute_input": "2022-11-24T10:10:10.335369Z",
     "iopub.status.busy": "2022-11-24T10:10:10.334915Z",
     "iopub.status.idle": "2022-11-24T10:10:10.356246Z",
     "shell.execute_reply": "2022-11-24T10:10:10.354891Z",
     "shell.execute_reply.started": "2022-11-24T10:10:10.335333Z"
    }
   },
   "outputs": [
    {
     "data": {
      "text/html": [
       "<div>\n",
       "<style scoped>\n",
       "    .dataframe tbody tr th:only-of-type {\n",
       "        vertical-align: middle;\n",
       "    }\n",
       "\n",
       "    .dataframe tbody tr th {\n",
       "        vertical-align: top;\n",
       "    }\n",
       "\n",
       "    .dataframe thead th {\n",
       "        text-align: right;\n",
       "    }\n",
       "</style>\n",
       "<table border=\"1\" class=\"dataframe\">\n",
       "  <thead>\n",
       "    <tr style=\"text-align: right;\">\n",
       "      <th></th>\n",
       "      <th>Filepath</th>\n",
       "      <th>Label</th>\n",
       "    </tr>\n",
       "  </thead>\n",
       "  <tbody>\n",
       "    <tr>\n",
       "      <th>0</th>\n",
       "      <td>/kaggle/input/a-large-scale-fish-dataset/Fish_...</td>\n",
       "      <td>Gilt-Head Bream</td>\n",
       "    </tr>\n",
       "    <tr>\n",
       "      <th>1</th>\n",
       "      <td>/kaggle/input/a-large-scale-fish-dataset/Fish_...</td>\n",
       "      <td>Sea Bass</td>\n",
       "    </tr>\n",
       "    <tr>\n",
       "      <th>2</th>\n",
       "      <td>/kaggle/input/a-large-scale-fish-dataset/Fish_...</td>\n",
       "      <td>Red Mullet</td>\n",
       "    </tr>\n",
       "    <tr>\n",
       "      <th>3</th>\n",
       "      <td>/kaggle/input/a-large-scale-fish-dataset/Fish_...</td>\n",
       "      <td>Shrimp</td>\n",
       "    </tr>\n",
       "    <tr>\n",
       "      <th>4</th>\n",
       "      <td>/kaggle/input/a-large-scale-fish-dataset/Fish_...</td>\n",
       "      <td>Trout</td>\n",
       "    </tr>\n",
       "    <tr>\n",
       "      <th>...</th>\n",
       "      <td>...</td>\n",
       "      <td>...</td>\n",
       "    </tr>\n",
       "    <tr>\n",
       "      <th>1795</th>\n",
       "      <td>/kaggle/input/a-large-scale-fish-dataset/Fish_...</td>\n",
       "      <td>Trout</td>\n",
       "    </tr>\n",
       "    <tr>\n",
       "      <th>1796</th>\n",
       "      <td>/kaggle/input/a-large-scale-fish-dataset/Fish_...</td>\n",
       "      <td>Red Sea Bream</td>\n",
       "    </tr>\n",
       "    <tr>\n",
       "      <th>1797</th>\n",
       "      <td>/kaggle/input/a-large-scale-fish-dataset/Fish_...</td>\n",
       "      <td>Striped Red Mullet</td>\n",
       "    </tr>\n",
       "    <tr>\n",
       "      <th>1798</th>\n",
       "      <td>/kaggle/input/a-large-scale-fish-dataset/Fish_...</td>\n",
       "      <td>Black Sea Sprat</td>\n",
       "    </tr>\n",
       "    <tr>\n",
       "      <th>1799</th>\n",
       "      <td>/kaggle/input/a-large-scale-fish-dataset/Fish_...</td>\n",
       "      <td>Striped Red Mullet</td>\n",
       "    </tr>\n",
       "  </tbody>\n",
       "</table>\n",
       "<p>1800 rows × 2 columns</p>\n",
       "</div>"
      ],
      "text/plain": [
       "                                               Filepath               Label\n",
       "0     /kaggle/input/a-large-scale-fish-dataset/Fish_...     Gilt-Head Bream\n",
       "1     /kaggle/input/a-large-scale-fish-dataset/Fish_...            Sea Bass\n",
       "2     /kaggle/input/a-large-scale-fish-dataset/Fish_...          Red Mullet\n",
       "3     /kaggle/input/a-large-scale-fish-dataset/Fish_...              Shrimp\n",
       "4     /kaggle/input/a-large-scale-fish-dataset/Fish_...               Trout\n",
       "...                                                 ...                 ...\n",
       "1795  /kaggle/input/a-large-scale-fish-dataset/Fish_...               Trout\n",
       "1796  /kaggle/input/a-large-scale-fish-dataset/Fish_...       Red Sea Bream\n",
       "1797  /kaggle/input/a-large-scale-fish-dataset/Fish_...  Striped Red Mullet\n",
       "1798  /kaggle/input/a-large-scale-fish-dataset/Fish_...     Black Sea Sprat\n",
       "1799  /kaggle/input/a-large-scale-fish-dataset/Fish_...  Striped Red Mullet\n",
       "\n",
       "[1800 rows x 2 columns]"
      ]
     },
     "execution_count": 4,
     "metadata": {},
     "output_type": "execute_result"
    }
   ],
   "source": [
    "image_df"
   ]
  },
  {
   "cell_type": "markdown",
   "metadata": {},
   "source": [
    "### Deviding the dataframe into Train and Test Dataframe"
   ]
  },
  {
   "cell_type": "code",
   "execution_count": 6,
   "metadata": {
    "execution": {
     "iopub.execute_input": "2022-11-24T10:11:26.591345Z",
     "iopub.status.busy": "2022-11-24T10:11:26.590889Z",
     "iopub.status.idle": "2022-11-24T10:11:26.600093Z",
     "shell.execute_reply": "2022-11-24T10:11:26.598710Z",
     "shell.execute_reply.started": "2022-11-24T10:11:26.591309Z"
    }
   },
   "outputs": [],
   "source": [
    "train_df, test_df = train_test_split(image_df, train_size=0.7, shuffle=True, random_state=1)"
   ]
  },
  {
   "cell_type": "markdown",
   "metadata": {},
   "source": [
    "# Importing The Dataset Images"
   ]
  },
  {
   "cell_type": "code",
   "execution_count": 8,
   "metadata": {
    "execution": {
     "iopub.execute_input": "2022-11-24T10:13:10.786338Z",
     "iopub.status.busy": "2022-11-24T10:13:10.785891Z",
     "iopub.status.idle": "2022-11-24T10:13:12.030160Z",
     "shell.execute_reply": "2022-11-24T10:13:12.029083Z",
     "shell.execute_reply.started": "2022-11-24T10:13:10.786303Z"
    }
   },
   "outputs": [],
   "source": [
    "# making generators which will generate or load the dataset at runtime\n",
    "train_generator = tf.keras.preprocessing.image.ImageDataGenerator(\n",
    "    preprocessing_function=tf.keras.applications.mobilenet_v2.preprocess_input,\n",
    "    validation_split=0.2\n",
    ")\n",
    "\n",
    "test_generator = tf.keras.preprocessing.image.ImageDataGenerator(\n",
    "    preprocessing_function=tf.keras.applications.mobilenet_v2.preprocess_input\n",
    ")"
   ]
  },
  {
   "cell_type": "code",
   "execution_count": 9,
   "metadata": {
    "execution": {
     "iopub.execute_input": "2022-11-24T10:16:55.870387Z",
     "iopub.status.busy": "2022-11-24T10:16:55.869869Z",
     "iopub.status.idle": "2022-11-24T10:16:56.963705Z",
     "shell.execute_reply": "2022-11-24T10:16:56.962354Z",
     "shell.execute_reply.started": "2022-11-24T10:16:55.870339Z"
    }
   },
   "outputs": [
    {
     "name": "stdout",
     "output_type": "stream",
     "text": [
      "Found 1008 validated image filenames belonging to 9 classes.\n",
      "Found 252 validated image filenames belonging to 9 classes.\n",
      "Found 540 validated image filenames belonging to 9 classes.\n"
     ]
    }
   ],
   "source": [
    "# Finally using generators to make image datasets and readying it for model training\n",
    "\n",
    "# Using train generator to take images for training\n",
    "train_images = train_generator.flow_from_dataframe(\n",
    "    dataframe=train_df,\n",
    "    x_col='Filepath',\n",
    "    y_col='Label',\n",
    "    target_size=(224, 224),\n",
    "    color_mode='rgb',\n",
    "    class_mode='categorical',\n",
    "    batch_size=32,\n",
    "    shuffle=True,\n",
    "    seed=42,\n",
    "    subset='training'\n",
    ")\n",
    "\n",
    "# Again using train generator to take images for validation now\n",
    "val_images = train_generator.flow_from_dataframe(\n",
    "    dataframe=train_df,\n",
    "    x_col='Filepath',\n",
    "    y_col='Label',\n",
    "    target_size=(224, 224),\n",
    "    color_mode='rgb',\n",
    "    class_mode='categorical',\n",
    "    batch_size=32,\n",
    "    shuffle=True,\n",
    "    seed=42,\n",
    "    subset='validation'\n",
    ")\n",
    "\n",
    "# Using Test Generator to import images for \n",
    "test_images = test_generator.flow_from_dataframe(\n",
    "    dataframe=test_df,\n",
    "    x_col='Filepath',\n",
    "    y_col='Label',\n",
    "    target_size=(224, 224),\n",
    "    color_mode='rgb',\n",
    "    class_mode='categorical',\n",
    "    batch_size=32,\n",
    "    shuffle=False\n",
    ")"
   ]
  },
  {
   "cell_type": "markdown",
   "metadata": {},
   "source": [
    "# Importing and using MobileNetV2 Model"
   ]
  },
  {
   "cell_type": "code",
   "execution_count": 10,
   "metadata": {
    "execution": {
     "iopub.execute_input": "2022-11-24T10:18:11.467863Z",
     "iopub.status.busy": "2022-11-24T10:18:11.467425Z",
     "iopub.status.idle": "2022-11-24T10:18:13.060427Z",
     "shell.execute_reply": "2022-11-24T10:18:13.058723Z",
     "shell.execute_reply.started": "2022-11-24T10:18:11.467831Z"
    }
   },
   "outputs": [
    {
     "name": "stderr",
     "output_type": "stream",
     "text": [
      "2022-11-24 10:18:11.531834: I tensorflow/core/common_runtime/process_util.cc:146] Creating new thread pool with default inter op setting: 2. Tune using inter_op_parallelism_threads for best performance.\n"
     ]
    },
    {
     "name": "stdout",
     "output_type": "stream",
     "text": [
      "Downloading data from https://storage.googleapis.com/tensorflow/keras-applications/mobilenet_v2/mobilenet_v2_weights_tf_dim_ordering_tf_kernels_1.0_224_no_top.h5\n",
      "9412608/9406464 [==============================] - 0s 0us/step\n",
      "9420800/9406464 [==============================] - 0s 0us/step\n"
     ]
    }
   ],
   "source": [
    "pretrained_model = tf.keras.applications.MobileNetV2(\n",
    "    input_shape=(224, 224, 3),\n",
    "    include_top=False,\n",
    "    weights='imagenet',\n",
    "    pooling='avg'\n",
    ")\n",
    "\n",
    "pretrained_model.trainable = False"
   ]
  },
  {
   "cell_type": "markdown",
   "metadata": {},
   "source": [
    "# Training the loaded Models"
   ]
  },
  {
   "cell_type": "code",
   "execution_count": 11,
   "metadata": {
    "execution": {
     "iopub.execute_input": "2022-11-24T10:22:07.591095Z",
     "iopub.status.busy": "2022-11-24T10:22:07.590165Z",
     "iopub.status.idle": "2022-11-24T10:29:08.061204Z",
     "shell.execute_reply": "2022-11-24T10:29:08.060185Z",
     "shell.execute_reply.started": "2022-11-24T10:22:07.591016Z"
    }
   },
   "outputs": [
    {
     "name": "stderr",
     "output_type": "stream",
     "text": [
      "2022-11-24 10:22:08.692322: I tensorflow/compiler/mlir/mlir_graph_optimization_pass.cc:185] None of the MLIR Optimization Passes are enabled (registered 2)\n"
     ]
    },
    {
     "name": "stdout",
     "output_type": "stream",
     "text": [
      "Epoch 1/100\n",
      "32/32 [==============================] - 40s 1s/step - loss: 0.6748 - accuracy: 0.8185 - val_loss: 0.1559 - val_accuracy: 0.9563\n",
      "Epoch 2/100\n",
      "32/32 [==============================] - 26s 812ms/step - loss: 0.0877 - accuracy: 0.9762 - val_loss: 0.0792 - val_accuracy: 0.9841\n",
      "Epoch 3/100\n",
      "32/32 [==============================] - 26s 810ms/step - loss: 0.0320 - accuracy: 0.9931 - val_loss: 0.0527 - val_accuracy: 0.9921\n",
      "Epoch 4/100\n",
      "32/32 [==============================] - 26s 821ms/step - loss: 0.0089 - accuracy: 1.0000 - val_loss: 0.0407 - val_accuracy: 0.9921\n",
      "Epoch 5/100\n",
      "32/32 [==============================] - 26s 806ms/step - loss: 0.0046 - accuracy: 1.0000 - val_loss: 0.0458 - val_accuracy: 0.9921\n",
      "Epoch 6/100\n",
      "32/32 [==============================] - 26s 807ms/step - loss: 0.0033 - accuracy: 1.0000 - val_loss: 0.0398 - val_accuracy: 0.9921\n",
      "Epoch 7/100\n",
      "32/32 [==============================] - 26s 808ms/step - loss: 0.0025 - accuracy: 1.0000 - val_loss: 0.0425 - val_accuracy: 0.9921\n",
      "Epoch 8/100\n",
      "32/32 [==============================] - 25s 782ms/step - loss: 0.0020 - accuracy: 1.0000 - val_loss: 0.0384 - val_accuracy: 0.9921\n",
      "Epoch 9/100\n",
      "32/32 [==============================] - 26s 808ms/step - loss: 0.0017 - accuracy: 1.0000 - val_loss: 0.0401 - val_accuracy: 0.9921\n",
      "Epoch 10/100\n",
      "32/32 [==============================] - 26s 804ms/step - loss: 0.0014 - accuracy: 1.0000 - val_loss: 0.0385 - val_accuracy: 0.9921\n",
      "Epoch 11/100\n",
      "32/32 [==============================] - 26s 791ms/step - loss: 0.0012 - accuracy: 1.0000 - val_loss: 0.0407 - val_accuracy: 0.9921\n"
     ]
    }
   ],
   "source": [
    "# Setting up the inputs\n",
    "inputs = pretrained_model.input\n",
    "\n",
    "# Making a Neural net for using the pretrained model and matching the input and output layer of the pretrained model with our data\n",
    "x = tf.keras.layers.Dense(128, activation='relu')(pretrained_model.output)\n",
    "x = tf.keras.layers.Dense(128, activation='relu')(x)\n",
    "\n",
    "outputs = tf.keras.layers.Dense(9, activation='softmax')(x)\n",
    "\n",
    "\n",
    "model = tf.keras.Model(inputs=inputs, outputs=outputs)\n",
    "\n",
    "\n",
    "# Compiling the Custom Model\n",
    "model.compile(\n",
    "    optimizer='adam',\n",
    "    loss='categorical_crossentropy',\n",
    "    metrics=['accuracy']\n",
    ")\n",
    "\n",
    "# Finally Training the Model\n",
    "history = model.fit(\n",
    "    train_images,\n",
    "    validation_data=val_images,\n",
    "    epochs=100,\n",
    "    callbacks=[\n",
    "        tf.keras.callbacks.EarlyStopping( # Early stopping technique stops the model training when the model has received the best weights\n",
    "            monitor='val_loss',\n",
    "            patience=3,\n",
    "            restore_best_weights=True\n",
    "        )\n",
    "    ]\n",
    ")"
   ]
  },
  {
   "cell_type": "markdown",
   "metadata": {},
   "source": [
    "# Results"
   ]
  },
  {
   "cell_type": "code",
   "execution_count": 12,
   "metadata": {
    "execution": {
     "iopub.execute_input": "2022-11-24T10:29:08.063584Z",
     "iopub.status.busy": "2022-11-24T10:29:08.063198Z",
     "iopub.status.idle": "2022-11-24T10:29:23.858027Z",
     "shell.execute_reply": "2022-11-24T10:29:23.857031Z",
     "shell.execute_reply.started": "2022-11-24T10:29:08.063537Z"
    }
   },
   "outputs": [
    {
     "name": "stdout",
     "output_type": "stream",
     "text": [
      "    Test Loss: 0.02404\n",
      "Test Accuracy: 99.26%\n"
     ]
    }
   ],
   "source": [
    "results = model.evaluate(test_images, verbose=0)\n",
    "\n",
    "print(\"Test Loss: {:.5f}\".format(results[0]))\n",
    "print(\"Test Accuracy: {:.2f}%\".format(results[1] * 100))"
   ]
  },
  {
   "cell_type": "code",
   "execution_count": 28,
   "metadata": {
    "execution": {
     "iopub.execute_input": "2022-11-24T10:39:52.973749Z",
     "iopub.status.busy": "2022-11-24T10:39:52.973322Z",
     "iopub.status.idle": "2022-11-24T10:39:53.176698Z",
     "shell.execute_reply": "2022-11-24T10:39:53.175565Z",
     "shell.execute_reply.started": "2022-11-24T10:39:52.973717Z"
    }
   },
   "outputs": [
    {
     "data": {
      "image/png": "[encoded data removed]",
      "text/plain": [
       "<Figure size 432x288 with 1 Axes>"
      ]
     },
     "metadata": {
      "needs_background": "light"
     },
     "output_type": "display_data"
    }
   ],
   "source": [
    "plt.title(\"Training Accuracy and Loss Graph\")\n",
    "plt.plot(history.history['loss'], label = \"Training Loss\")\n",
    "plt.plot(history.history['accuracy'],label = 'Training Accuracy')\n",
    "plt.legend()\n",
    "plt.show()"
   ]
  },
  {
   "cell_type": "code",
   "execution_count": 26,
   "metadata": {
    "execution": {
     "iopub.execute_input": "2022-11-24T10:39:01.306546Z",
     "iopub.status.busy": "2022-11-24T10:39:01.306067Z",
     "iopub.status.idle": "2022-11-24T10:39:01.500598Z",
     "shell.execute_reply": "2022-11-24T10:39:01.499075Z",
     "shell.execute_reply.started": "2022-11-24T10:39:01.306504Z"
    }
   },
   "outputs": [
    {
     "data": {
      "image/png": "[encoded data removed]",
      "text/plain": [
       "<Figure size 432x288 with 1 Axes>"
      ]
     },
     "metadata": {
      "needs_background": "light"
     },
     "output_type": "display_data"
    }
   ],
   "source": [
    "plt.title(\"Validation Loss and Accuracy\")\n",
    "plt.plot(history.history['val_loss'],label = 'Validation Loss')\n",
    "plt.plot(history.history['val_accuracy'], label = 'Validation Accuracy')\n",
    "plt.legend()\n",
    "plt.show()"
   ]
  }
 ],
 "metadata": {
  "kernelspec": {
   "display_name": "Python 3 (ipykernel)",
   "language": "python",
   "name": "python3"
  },
  "language_info": {
   "codemirror_mode": {
    "name": "ipython",
    "version": 3
   },
   "file_extension": ".py",
   "mimetype": "text/x-python",
   "name": "python",
   "nbconvert_exporter": "python",
   "pygments_lexer": "ipython3",
   "version": "3.9.7"
  }
 },
 "nbformat": 4,
 "nbformat_minor": 4
}
